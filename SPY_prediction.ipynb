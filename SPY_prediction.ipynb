{
 "cells": [
  {
   "cell_type": "code",
   "execution_count": 1,
   "metadata": {},
   "outputs": [],
   "source": [
    "# AI539: MACHINE LEARNING CHALLENGES (Final implementation)\n",
    "# Author: Jisoo Lee\n",
    "# date: Mar 14, 2022"
   ]
  },
  {
   "cell_type": "code",
   "execution_count": 2,
   "metadata": {},
   "outputs": [],
   "source": [
    "# import libraries\n",
    "\n",
    "import numpy as np\n",
    "import pandas as pd\n",
    "\n",
    "import matplotlib\n",
    "import matplotlib.pyplot as plt\n",
    "\n",
    "import sklearn\n",
    "from sklearn.preprocessing import MinMaxScaler\n",
    "from sklearn.preprocessing import StandardScaler\n",
    "from sklearn.preprocessing import Normalizer\n",
    "\n",
    "from classifiers import Classifiers\n",
    "from classifiers import ClsExplanation\n"
   ]
  },
  {
   "cell_type": "code",
   "execution_count": 3,
   "metadata": {},
   "outputs": [],
   "source": [
    "# Get dataframes\n",
    "\n",
    "spy_df = pd.read_csv('./dataset/spy.csv')\n",
    "gold_df = pd.read_csv('./dataset/gold.csv')\n",
    "oil_df = pd.read_csv('./dataset/oil.csv')\n",
    "didx_df = pd.read_csv('./dataset/d_idx.csv')\n",
    "gs5_df = pd.read_csv('./dataset/GS5.csv')\n",
    "gs10_df = pd.read_csv('./dataset/GS10.csv')\n",
    "gs20_df = pd.read_csv('./dataset/GS20.csv')\n",
    "unrate_df = pd.read_csv('./dataset/unrate.csv')\n",
    "ggap_df = pd.read_csv('./dataset/g_gap.csv')\n",
    "btc_df = pd.read_csv('./dataset/BTC.csv')\n"
   ]
  },
  {
   "cell_type": "code",
   "execution_count": 4,
   "metadata": {},
   "outputs": [],
   "source": [
    "# Make label dataframe\n",
    "label = [\"UPDOWN\"]\n",
    "y = pd.read_csv('./dataset/spy.csv', usecols=label)\n",
    "\n",
    "#1: decrease, 2: increase\n",
    "bins_two = np.array([-30.0, 0.0, 30.0])\n",
    "idx_two = np.digitize(y, bins_two)\n",
    "\n",
    "# drop 2016 data and quantize\n",
    "y1 = np.digitize(y,bins_two,right=True) \n",
    "y1_df = pd.DataFrame(y1, columns = ['CLASS'])\n",
    "\n",
    "spy_df['CLASS'] = y1_df\n",
    "\n",
    "spy_df.to_csv('./dataset/spy_two.csv')\n"
   ]
  },
  {
   "cell_type": "code",
   "execution_count": 5,
   "metadata": {},
   "outputs": [
    {
     "name": "stdout",
     "output_type": "stream",
     "text": [
      "(array([1, 2]), array([545, 714]))\n"
     ]
    },
    {
     "data": {
      "image/png": "[encoded data removed]",
      "text/plain": [
       "<Figure size 432x288 with 1 Axes>"
      ]
     },
     "metadata": {
      "needs_background": "light"
     },
     "output_type": "display_data"
    }
   ],
   "source": [
    "# class histogram (class distribution)\n",
    "print(np.unique(y1_df[21:], return_counts=True))\n",
    "df_hist = pd.DataFrame(y1_df[21:] , columns = [\"CLASS\"])\n",
    "plt.hist(y1, rwidth=1.0)\n",
    "\n",
    "plt.title(\"Class distribution (Number of class: 2)\")\n",
    "plt.show()\n"
   ]
  },
  {
   "cell_type": "code",
   "execution_count": 6,
   "metadata": {},
   "outputs": [],
   "source": [
    "# re-read spy dataframe with updated features\n",
    "features = ['Date', 'MONTH', 'SPY', 'CLASS']\n",
    "spy_df_two = pd.read_csv('./dataset/spy_two.csv', usecols=features)"
   ]
  },
  {
   "cell_type": "code",
   "execution_count": 7,
   "metadata": {},
   "outputs": [],
   "source": [
    "# merge dataframes\n",
    "df = pd.merge(spy_df_two, gold_df, on='Date', how='left')\n",
    "df = pd.merge(df, oil_df, on='Date', how='left')\n",
    "df = pd.merge(df, didx_df, on='Date', how='left')\n",
    "df = pd.merge(df, gs5_df, on='Date', how='left')\n",
    "df = pd.merge(df, gs10_df, on='Date', how='left')\n",
    "df = pd.merge(df, gs20_df, on='Date', how='left')\n",
    "df = pd.merge(df, unrate_df, on='Date', how='left')\n",
    "df = pd.merge(df, ggap_df, on='Date', how='left')\n",
    "df = pd.merge(df, btc_df, on='Date', how='left')"
   ]
  },
  {
   "cell_type": "code",
   "execution_count": 8,
   "metadata": {},
   "outputs": [],
   "source": [
    "# Fill missing values\n",
    "\n",
    "# 1. forward fill\n",
    "df_ffill = df.ffill(axis = 0)\n",
    "\n",
    "# 2. linear interpolation fill\n",
    "feat = df.columns[5:16]\n",
    "df_linear = df\n",
    "df_linear['MONTH'] = df['MONTH'].ffill(axis=0)\n",
    "df_linear[feat] = df[feat].interpolate(method='linear', limit_direction='forward', axis=0)\n",
    "\n",
    "# 3. average fill\n",
    "df_avg = df\n",
    "df_avg['MONTH'] = df['MONTH'].ffill(axis=0)\n",
    "df_avg['OIL'] = df_avg['OIL'].fillna(df_avg['OIL'].mean())\n",
    "df_avg['UNRATE'] = df_avg['UNRATE'].fillna(df_avg['UNRATE'].mean())\n",
    "df_avg['GAP'] = df_avg['GAP'].fillna(df_avg['GAP'].mean())\n"
   ]
  },
  {
   "cell_type": "code",
   "execution_count": 9,
   "metadata": {},
   "outputs": [],
   "source": [
    "# day, week, month change percentage \n",
    "\n",
    "change_feat1 = ['SPY_1', 'GOLD_1', 'OIL_1', 'DOLLAR_1', 'BTC_1']\n",
    "change_feat2 = ['SPY_5', 'GOLD_5', 'OIL_5', 'DOLLAR_5', 'BTC_5']\n",
    "change_feat3 = ['SPY_20', 'GOLD_20', 'OIL_20', 'DOLLAR_20', 'BTC_20']\n",
    "\n",
    "change_feat = change_feat1 + change_feat2 + change_feat3\n",
    "\n",
    "\n",
    "# initialization\n",
    "for i in range(len(change_feat)):\n",
    "    feat_name = change_feat[i]\n",
    "    df_ffill[feat_name] = np.nan\n",
    "    df_linear[feat_name] = np.nan\n",
    "    df_avg[feat_name] = np.nan\n"
   ]
  },
  {
   "cell_type": "code",
   "execution_count": 10,
   "metadata": {},
   "outputs": [],
   "source": [
    "for i in range(21, 1280):\n",
    "    for j in range(5):\n",
    "        feat_name = change_feat1[j]\n",
    "        df_ffill.loc[i, feat_name] = 100 * (df_ffill[feat_name[:-2]][i-1] - df_ffill[feat_name[:-2]][i-2]) / df_ffill[feat_name[:-2]][i-2]\n",
    "        df_linear.loc[i, feat_name] = 100 * (df_linear[feat_name[:-2]][i-1] - df_linear[feat_name[:-2]][i-2]) / df_linear[feat_name[:-2]][i-2]\n",
    "        df_avg.loc[i, feat_name] = 100 * (df_avg[feat_name[:-2]][i-1] - df_avg[feat_name[:-2]][i-2]) / df_avg[feat_name[:-2]][i-2]\n",
    "        \n",
    "for i in range(21, 1280):\n",
    "    for j in range(5):\n",
    "        feat_name = change_feat2[j]\n",
    "        df_ffill.loc[i, feat_name] = 100 * (df_ffill[feat_name[:-2]][i-1] - df_ffill[feat_name[:-2]][i-5]) / df_ffill[feat_name[:-2]][i-5]\n",
    "        df_linear.loc[i, feat_name] = 100 * (df_linear[feat_name[:-2]][i-1] - df_linear[feat_name[:-2]][i-5]) / df_linear[feat_name[:-2]][i-5]\n",
    "        df_avg.loc[i, feat_name] = 100 * (df_avg[feat_name[:-2]][i-1] - df_avg[feat_name[:-2]][i-5]) / df_avg[feat_name[:-2]][i-5]\n",
    "\n",
    "for i in range(21, 1280):\n",
    "    for j in range(5):\n",
    "        feat_name = change_feat3[j]\n",
    "        df_ffill.loc[i, feat_name] = 100 * (df_ffill[feat_name[:-3]][i-1] - df_ffill[feat_name[:-3]][i-20]) / df_ffill[feat_name[:-3]][i-20]\n",
    "        df_linear.loc[i, feat_name] = 100 * (df_linear[feat_name[:-3]][i-1] - df_linear[feat_name[:-3]][i-20]) / df_linear[feat_name[:-3]][i-20]\n",
    "        df_avg.loc[i, feat_name] = 100 * (df_avg[feat_name[:-3]][i-1] - df_avg[feat_name[:-3]][i-20]) / df_avg[feat_name[:-3]][i-20]\n",
    "  \n",
    "\n"
   ]
  },
  {
   "cell_type": "code",
   "execution_count": 11,
   "metadata": {},
   "outputs": [],
   "source": [
    "# Save filled missing values\n",
    "df_linear[21:].to_csv('./dataset/data_merge_linear_two.csv')\n",
    "df_ffill[21:].to_csv('./dataset/data_merge_ffill_two.csv')\n",
    "df_avg[21:].to_csv('./dataset/data_merge_avg_two.csv')  "
   ]
  },
  {
   "cell_type": "code",
   "execution_count": 12,
   "metadata": {},
   "outputs": [],
   "source": [
    "label = ['CLASS']\n",
    "\n",
    "features = ['MONTH', 'DGS5', 'DGS10', 'DGS20', 'UNRATE', 'GAP', 'SPY_1', 'SPY_5', 'SPY_20', 'GOLD_1', 'GOLD_5', 'GOLD_20','OIL_1', 'OIL_5', 'OIL_20','DOLLAR_1', 'DOLLAR_5', 'DOLLAR_20', 'BTC_1', 'BTC_5', 'BTC_20']\n"
   ]
  },
  {
   "cell_type": "code",
   "execution_count": 13,
   "metadata": {},
   "outputs": [],
   "source": [
    "X = pd.read_csv('./dataset/data_merge_linear_two.csv', usecols=features).round(4)\n",
    "y = pd.read_csv('./dataset/data_merge_linear_two.csv', usecols=label).round(4)\n",
    "\n",
    "y = y.squeeze()"
   ]
  },
  {
   "cell_type": "code",
   "execution_count": 14,
   "metadata": {
    "scrolled": true
   },
   "outputs": [
    {
     "name": "stdout",
     "output_type": "stream",
     "text": [
      "[MONTH] min= 1.0 , max= 12.0 , mean= 6.5417 , median= 7.0\n",
      "[DGS5] min= 0.19 , max= 3.09 , mean= 1.599198 , median= 1.74\n",
      "[DGS10] min= 0.52 , max= 3.24 , mean= 1.941763 , median= 2.06\n",
      "[DGS20] min= 0.87 , max= 3.37 , mean= 2.278888 , median= 2.36\n",
      "[UNRATE] min= 3.6 , max= 14.7 , mean= 5.437817 , median= 4.3333\n",
      "[GAP] min= -1946000.0 , max= 172670.0 , mean= -215041.860207 , median= -93647.7586\n",
      "[SPY_1] min= -10.9424 , max= 9.0603 , mean= 0.066951 , median= 0.0862\n",
      "[GOLD_1] min= -4.9854 , max= 5.9771 , mean= 0.039931 , median= 0.0548\n",
      "[OIL_1] min= -47.4654 , max= 50.9868 , mean= 0.091394 , median= 0.2078\n",
      "[DOLLAR_1] min= -1.6131 , max= 1.5912 , mean= -0.004699 , median= -0.0103\n",
      "[BTC_1] min= -37.1695 , max= 25.2472 , mean= 0.432102 , median= 0.2374\n",
      "[SPY_5] min= -16.84 , max= 14.1608 , mean= 0.262518 , median= 0.4256\n",
      "[GOLD_5] min= -10.4032 , max= 12.3351 , mean= 0.16307 , median= 0.2181\n",
      "[OIL_5] min= -53.9394 , max= 66.3377 , mean= 0.324981 , median= 0.4791\n",
      "[DOLLAR_5] min= -4.0199 , max= 4.8221 , mean= -0.01936 , median= 0.0\n",
      "[BTC_5] min= -45.511 , max= 63.0863 , mean= 1.765053 , median= 0.9233\n",
      "[SPY_20] min= -29.0367 , max= 26.3019 , mean= 1.219267 , median= 1.7561\n",
      "[GOLD_20] min= -11.4875 , max= 17.7482 , mean= 0.729987 , median= 0.3484\n",
      "[OIL_20] min= -71.3652 , max= 265.1316 , mean= 1.749062 , median= 2.3782\n",
      "[DOLLAR_20] min= -4.4184 , max= 5.9852 , mean= -0.077663 , median= 0.0321\n",
      "[BTC_20] min= -54.1515 , max= 162.4481 , mean= 9.590509 , median= 5.0355\n"
     ]
    }
   ],
   "source": [
    "# Data set profile, linear\n",
    "feature_list = X.columns\n",
    "\n",
    "# data set profile: the minimum, maximum, mean, and median values\n",
    "for i in range(X.shape[1]):\n",
    "    feat_name = X.columns[i]\n",
    "    exec(\"%s = %f\" % (feat_name+'_min',X[feat_name].min()))\n",
    "    exec(\"%s = %f\" % (feat_name+'_max',X[feat_name].max()))\n",
    "    exec(\"%s = %f\" % (feat_name+'_mean',X[feat_name].mean()))\n",
    "    exec(\"%s = %f\" % (feat_name+'_median',X[feat_name].median()))\n",
    "    print('['+ feat_name +'] min=', globals()[feat_name+'_min'], ', max=', globals()[feat_name+'_max'], \\\n",
    "    ', mean=', globals()[feat_name+'_mean'],', median=', globals()[feat_name+'_median'])\n",
    "\n",
    "\n"
   ]
  },
  {
   "cell_type": "code",
   "execution_count": 15,
   "metadata": {},
   "outputs": [],
   "source": [
    "X_train = X[:959]\n",
    "X_val = X[959:1159]\n",
    "X_test = X[1159:]\n",
    "\n",
    "y_train = y[:959]\n",
    "y_val = y[959:1159]\n",
    "y_test = y[1159:]"
   ]
  },
  {
   "cell_type": "code",
   "execution_count": 16,
   "metadata": {},
   "outputs": [
    {
     "name": "stdout",
     "output_type": "stream",
     "text": [
      "=======Use all features=======\n",
      "***** Experiment Result (Linear interpolation) *****\n",
      "\n",
      "Classifier             training time  val acc        test acc       \n",
      "Dummy(most_frequent)   0.0006         0.565          0.59           \n",
      "Gradient boosting      0.6504         0.565          0.59           \n",
      "Logistic regression    0.0186         0.57           0.58           \n",
      "Random forest          0.4247         0.495          0.52           \n",
      "Multi layer perceptron 0.0782         0.435          0.41           \n"
     ]
    }
   ],
   "source": [
    "# from cls import Classifiers\n",
    "print(\"=======Use all features=======\")\n",
    "Classifiers(X_train, y_train, X_val, y_val, X_test, y_test, tag='linear')"
   ]
  },
  {
   "cell_type": "code",
   "execution_count": 17,
   "metadata": {},
   "outputs": [
    {
     "data": {
      "image/png": "[encoded data removed]",
      "text/plain": [
       "<Figure size 432x288 with 1 Axes>"
      ]
     },
     "metadata": {
      "needs_background": "light"
     },
     "output_type": "display_data"
    },
    {
     "name": "stdout",
     "output_type": "stream",
     "text": [
      "[('SPY_1', 0.21914076097715665), ('DOLLAR_20', 0.1652699467379433), ('DGS10', 0.14860823838947107), ('DGS20', 0.12993328429110595), ('GOLD_5', 0.11503172747552186), ('OIL_5', 0.10967343691445652), ('OIL_20', 0.05617130448478433), ('GOLD_1', 0.05617130072956027), ('MONTH', 0.0), ('DGS5', 0.0), ('UNRATE', 0.0), ('GAP', 0.0), ('SPY_5', 0.0), ('SPY_20', 0.0), ('GOLD_20', 0.0), ('OIL_1', 0.0), ('DOLLAR_1', 0.0), ('DOLLAR_5', 0.0), ('BTC_1', 0.0), ('BTC_5', 0.0), ('BTC_20', 0.0)]\n",
      "Most relevant features: Index(['DGS10', 'DGS20', 'SPY_1', 'DOLLAR_1', 'BTC_1', 'OIL_5', 'DOLLAR_5',\n",
      "       'GOLD_20'],\n",
      "      dtype='object')\n"
     ]
    }
   ],
   "source": [
    "# GB classifier feature selection\n",
    "from sklearn.ensemble import GradientBoostingClassifier\n",
    "from sklearn.feature_selection import SelectFromModel\n",
    "\n",
    "gradient_boosting = GradientBoostingClassifier(learning_rate=0.001, n_estimators=100, random_state=100).fit(X_train, y_train)\n",
    "\n",
    "\n",
    "f_i = list(zip(features,gradient_boosting.feature_importances_))\n",
    "f_i.sort(key = lambda x : x[1])\n",
    "plt.barh([x[0] for x in f_i],[x[1] for x in f_i])\n",
    "plt.show()\n",
    "\n",
    "inverse = f_i\n",
    "inverse.sort(key = lambda x : -x[1])\n",
    "print(f_i)\n",
    "\n",
    "sel = SelectFromModel(GradientBoostingClassifier(learning_rate=0.001, n_estimators=100, random_state=100)\n",
    "\n",
    ")\n",
    "sel.fit(X_train, y_train)\n",
    "sel.get_support()\n",
    "selected_feat= X_train.columns[(sel.get_support())]\n",
    "print(\"Most relevant features:\", selected_feat)"
   ]
  },
  {
   "cell_type": "code",
   "execution_count": 18,
   "metadata": {},
   "outputs": [],
   "source": [
    "features2 = list(selected_feat)"
   ]
  },
  {
   "cell_type": "code",
   "execution_count": 19,
   "metadata": {},
   "outputs": [],
   "source": [
    "X_linear = pd.read_csv('./dataset/data_merge_linear_two.csv', usecols=features2).round(4)\n",
    "y_linear = pd.read_csv('./dataset/data_merge_linear_two.csv', usecols=label).round(4)\n",
    "\n",
    "X_ffill = pd.read_csv('./dataset/data_merge_ffill_two.csv', usecols=features2).round(4)\n",
    "y_ffill = pd.read_csv('./dataset/data_merge_ffill_two.csv', usecols=label).round(4)\n",
    "\n",
    "X_avg = pd.read_csv('./dataset/data_merge_avg_two.csv', usecols=features2).round(4)\n",
    "y_avg = pd.read_csv('./dataset/data_merge_avg_two.csv', usecols=label).round(4)\n"
   ]
  },
  {
   "cell_type": "code",
   "execution_count": 20,
   "metadata": {},
   "outputs": [],
   "source": [
    "X = X_linear\n",
    "y = y_linear\n",
    "\n",
    "y = y.squeeze()\n",
    "\n",
    "X_train = X[:959]\n",
    "X_val = X[959:1159]\n",
    "X_test = X[1159:]\n",
    "\n",
    "y_train = y[:959]\n",
    "y_val = y[959:1159]\n",
    "y_test = y[1159:]"
   ]
  },
  {
   "cell_type": "code",
   "execution_count": 21,
   "metadata": {
    "scrolled": false
   },
   "outputs": [
    {
     "name": "stdout",
     "output_type": "stream",
     "text": [
      "=======Use selected features=======\n",
      "***** Experiment Result (Linear interpolation) *****\n",
      "\n",
      "Classifier             training time  val acc        test acc       \n",
      "Dummy(most_frequent)   0.0008         0.565          0.59           \n",
      "Gradient boosting      0.3011         0.565          0.59           \n",
      "Logistic regression    0.0193         0.56           0.6            \n",
      "Random forest          0.3332         0.525          0.62           \n",
      "Multi layer perceptron 2.5149         0.535          0.68           \n"
     ]
    }
   ],
   "source": [
    "# from cls import Classifiers\n",
    "print(\"=======Use selected features=======\")\n",
    "Classifiers(X_train, y_train, X_val, y_val, X_test, y_test, tag = 'linear')"
   ]
  },
  {
   "cell_type": "code",
   "execution_count": 22,
   "metadata": {},
   "outputs": [],
   "source": [
    "# data normalization\n",
    "\n",
    "X_norm = Normalizer().fit_transform(X)\n",
    "\n",
    "X = X_norm\n",
    "\n",
    "X_train = X[:959]\n",
    "X_val = X[959:1159]\n",
    "X_test = X[1159:]\n",
    "\n",
    "y_train = y[:959]\n",
    "y_val = y[959:1159]\n",
    "y_test = y[1159:]"
   ]
  },
  {
   "cell_type": "code",
   "execution_count": 23,
   "metadata": {},
   "outputs": [
    {
     "name": "stdout",
     "output_type": "stream",
     "text": [
      "=======Use selected features, Data normalization=======\n",
      "***** Experiment Result (Linear interpolation) *****\n",
      "\n",
      "Classifier             training time  val acc        test acc       \n",
      "Dummy(most_frequent)   0.0005         0.565          0.59           \n",
      "Gradient boosting      0.3346         0.565          0.59           \n",
      "Logistic regression    0.0085         0.545          0.58           \n",
      "Random forest          0.3294         0.56           0.55           \n",
      "Multi layer perceptron 4.5969         0.505          0.59           \n"
     ]
    },
    {
     "name": "stderr",
     "output_type": "stream",
     "text": [
      "/Users/jisoolee/opt/anaconda3/lib/python3.8/site-packages/sklearn/neural_network/_multilayer_perceptron.py:582: ConvergenceWarning: Stochastic Optimizer: Maximum iterations (1000) reached and the optimization hasn't converged yet.\n",
      "  warnings.warn(\n"
     ]
    }
   ],
   "source": [
    "# from cls import Classifiers\n",
    "print(\"=======Use selected features, Data normalization=======\")\n",
    "Classifiers(X_train, y_train, X_val, y_val, X_test, y_test, tag = 'linear')"
   ]
  },
  {
   "cell_type": "code",
   "execution_count": 24,
   "metadata": {},
   "outputs": [],
   "source": [
    "# Min Max normalization\n",
    "\n",
    "X_mm = X  \n",
    "scaler = MinMaxScaler()\n",
    "X_mm = scaler.fit_transform(X)\n",
    "\n",
    "X = X_mm\n",
    "\n",
    "X_train = X[:959]\n",
    "X_val = X[959:1159]\n",
    "X_test = X[1159:]\n",
    "\n",
    "y_train = y[:959]\n",
    "y_val = y[959:1159]\n",
    "y_test = y[1159:]"
   ]
  },
  {
   "cell_type": "code",
   "execution_count": 25,
   "metadata": {},
   "outputs": [
    {
     "name": "stdout",
     "output_type": "stream",
     "text": [
      "=======Use selected features, Data Min Max Scaler=======\n",
      "***** Experiment Result (Linear interpolation) *****\n",
      "\n",
      "Classifier             training time  val acc        test acc       \n",
      "Dummy(most_frequent)   0.0013         0.565          0.59           \n",
      "Gradient boosting      0.3792         0.565          0.59           \n",
      "Logistic regression    0.0143         0.55           0.6            \n",
      "Random forest          0.3452         0.56           0.55           \n",
      "Multi layer perceptron 2.9234         0.6            0.57           \n"
     ]
    }
   ],
   "source": [
    "# from cls import Classifiers\n",
    "print(\"=======Use selected features, Data Min Max Scaler=======\")\n",
    "Classifiers(X_train, y_train, X_val, y_val, X_test, y_test, tag = 'linear')"
   ]
  },
  {
   "cell_type": "code",
   "execution_count": 26,
   "metadata": {},
   "outputs": [],
   "source": [
    "# data standardization\n",
    "\n",
    "scaler2 = StandardScaler()  \n",
    "X_std = X  \n",
    "# transform data\n",
    "X_std = scaler2.fit_transform(X)\n",
    "\n",
    "X = X_std\n",
    "\n",
    "X_train = X[:959]\n",
    "X_val = X[959:1159]\n",
    "X_test = X[1159:]\n",
    "\n",
    "y_train = y[:959]\n",
    "y_val = y[959:1159]\n",
    "y_test = y[1159:]"
   ]
  },
  {
   "cell_type": "code",
   "execution_count": 27,
   "metadata": {},
   "outputs": [
    {
     "name": "stdout",
     "output_type": "stream",
     "text": [
      "=======Use selected features, Data standardization=======\n",
      "***** Experiment Result (Linear interpolation) *****\n",
      "\n",
      "Classifier             training time  val acc        test acc       \n",
      "Dummy(most_frequent)   0.0006         0.565          0.59           \n",
      "Gradient boosting      0.3476         0.565          0.59           \n",
      "Logistic regression    0.0057         0.545          0.6            \n",
      "Random forest          0.3423         0.56           0.55           \n",
      "Multi layer perceptron 4.703          0.535          0.58           \n"
     ]
    },
    {
     "name": "stderr",
     "output_type": "stream",
     "text": [
      "/Users/jisoolee/opt/anaconda3/lib/python3.8/site-packages/sklearn/neural_network/_multilayer_perceptron.py:582: ConvergenceWarning: Stochastic Optimizer: Maximum iterations (1000) reached and the optimization hasn't converged yet.\n",
      "  warnings.warn(\n"
     ]
    }
   ],
   "source": [
    "# from cls import Classifiers\n",
    "print(\"=======Use selected features, Data standardization=======\")\n",
    "Classifiers(X_train, y_train, X_val, y_val, X_test, y_test, tag = 'linear')"
   ]
  },
  {
   "cell_type": "code",
   "execution_count": 28,
   "metadata": {},
   "outputs": [],
   "source": [
    "X = X_ffill\n",
    "y = y_ffill\n",
    "y = y.squeeze()\n",
    "\n",
    "X_train = X[:959]\n",
    "X_val = X[959:1159]\n",
    "X_test = X[1159:]\n",
    "\n",
    "y_train = y[:959]\n",
    "y_val = y[959:1159]\n",
    "y_test = y[1159:]\n"
   ]
  },
  {
   "cell_type": "code",
   "execution_count": 29,
   "metadata": {},
   "outputs": [
    {
     "name": "stdout",
     "output_type": "stream",
     "text": [
      "=======Use selected features=======\n",
      "***** Experiment Result (Forward filling) *****\n",
      "\n",
      "Classifier             training time  val acc        test acc       \n",
      "Dummy(most_frequent)   0.0005         0.565          0.59           \n",
      "Gradient boosting      0.3309         0.565          0.59           \n",
      "Logistic regression    0.0225         0.56           0.6            \n",
      "Random forest          0.3389         0.51           0.65           \n",
      "Multi layer perceptron 3.8142         0.53           0.63           \n"
     ]
    }
   ],
   "source": [
    "# from cls import Classifiers\n",
    "print(\"=======Use selected features=======\")\n",
    "Classifiers(X_train, y_train, X_val, y_val, X_test, y_test, tag='ffill')"
   ]
  },
  {
   "cell_type": "code",
   "execution_count": 30,
   "metadata": {},
   "outputs": [],
   "source": [
    "X = X_avg\n",
    "y = y_avg\n",
    "y = y.squeeze()\n",
    "\n",
    "X_train = X[:959]\n",
    "X_val = X[959:1159]\n",
    "X_test = X[1159:]\n",
    "\n",
    "y_train = y[:959]\n",
    "y_val = y[959:1159]\n",
    "y_test = y[1159:]"
   ]
  },
  {
   "cell_type": "code",
   "execution_count": 31,
   "metadata": {},
   "outputs": [
    {
     "name": "stdout",
     "output_type": "stream",
     "text": [
      "=======Use selected features=======\n",
      "***** Experiment Result (Average filling) *****\n",
      "\n",
      "Classifier             training time  val acc        test acc       \n",
      "Dummy(most_frequent)   0.0008         0.565          0.59           \n",
      "Gradient boosting      0.3365         0.565          0.59           \n",
      "Logistic regression    0.0196         0.56           0.6            \n",
      "Random forest          0.3374         0.525          0.62           \n",
      "Multi layer perceptron 2.6124         0.535          0.68           \n"
     ]
    }
   ],
   "source": [
    "# from cls import Classifiers\n",
    "print(\"=======Use selected features=======\")\n",
    "Classifiers(X_train, y_train, X_val, y_val, X_test, y_test, tag='avg')"
   ]
  },
  {
   "cell_type": "code",
   "execution_count": 32,
   "metadata": {},
   "outputs": [
    {
     "name": "stdout",
     "output_type": "stream",
     "text": [
      "When \n",
      "DGS10 is  up ,\n",
      "DGS20 is  up ,\n",
      "SPY_1 is  down ,\n",
      "DOLLAR_1 is  down ,\n",
      "BTC_1 is  down ,\n",
      "OIL_5 is  down ,\n",
      "DOLLAR_5 is  up ,\n",
      "GOLD_20 is  down ,\n",
      "The model predicts SPY price will  fall\n",
      "\n",
      "\n",
      "When \n",
      "DGS10 is  up ,\n",
      "DGS20 is  up ,\n",
      "SPY_1 is  up ,\n",
      "DOLLAR_1 is  up ,\n",
      "BTC_1 is  up ,\n",
      "OIL_5 is  up ,\n",
      "DOLLAR_5 is  up ,\n",
      "GOLD_20 is  down ,\n",
      "The model predicts SPY price will  rise\n",
      "\n",
      "\n",
      "When \n",
      "DGS10 is  up ,\n",
      "DGS20 is  up ,\n",
      "SPY_1 is  up ,\n",
      "DOLLAR_1 is  down ,\n",
      "BTC_1 is  up ,\n",
      "OIL_5 is  up ,\n",
      "DOLLAR_5 is  down ,\n",
      "GOLD_20 is  down ,\n",
      "The model predicts SPY price will  rise\n",
      "\n",
      "\n"
     ]
    }
   ],
   "source": [
    "# Explanations \n",
    "\n",
    "X = X_linear\n",
    "y = y_linear\n",
    "\n",
    "y = y.squeeze()\n",
    "\n",
    "X_train = X[:959]\n",
    "X_val = X[959:1159]\n",
    "X_test = X[1159:]\n",
    "\n",
    "y_train = y[:959]\n",
    "y_val = y[959:1159]\n",
    "y_test = y[1159:]\n",
    "\n",
    "\n",
    "ClsExplanation(X_train, y_train, X_val, y_val, X_test, y_test, feature = features2)\n"
   ]
  },
  {
   "cell_type": "code",
   "execution_count": null,
   "metadata": {},
   "outputs": [],
   "source": []
  },
  {
   "cell_type": "code",
   "execution_count": null,
   "metadata": {},
   "outputs": [],
   "source": []
  },
  {
   "cell_type": "code",
   "execution_count": null,
   "metadata": {},
   "outputs": [],
   "source": []
  },
  {
   "cell_type": "code",
   "execution_count": null,
   "metadata": {},
   "outputs": [],
   "source": []
  }
 ],
 "metadata": {
  "kernelspec": {
   "display_name": "Python 3",
   "language": "python",
   "name": "python3"
  },
  "language_info": {
   "codemirror_mode": {
    "name": "ipython",
    "version": 3
   },
   "file_extension": ".py",
   "mimetype": "text/x-python",
   "name": "python",
   "nbconvert_exporter": "python",
   "pygments_lexer": "ipython3",
   "version": "3.8.3"
  }
 },
 "nbformat": 4,
 "nbformat_minor": 4
}
